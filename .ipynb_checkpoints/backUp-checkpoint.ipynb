{
 "cells": [
  {
   "cell_type": "markdown",
   "metadata": {},
   "source": [
    "<h1 style=\"color:#ffc0cb;font-size:70px;font-family:Georgia;text-align:center;\"><strong>Speech Emotion Recognition</strong></h1>\n",
    "\n",
    "### <b>Author Name: Nguyen Dang Huynh Chau</b>"
   ]
  },
  {
   "cell_type": "markdown",
   "metadata": {},
   "source": [
    "<h1 style=\"color:#ffc0cb;font-size:40px;font-family:Georgia;text-align:center;\"><strong> 📜 Table of Content</strong></h1>\n",
    "\n",
    "### 1. [Data Preparation](#1)\n",
    "\n",
    "1.1 [Introduction](#1.1) \n",
    "\n",
    "1.2 [Importing Necessary Libraries and datasets](#1.2)\n",
    "\n",
    "1.3 [Data Retrieving](#1.3)\n",
    "\n",
    "1.3.1 [SAVEE Dataset](#1.3.1)\n",
    "1.3.2 [SAVEE Dataset](#1.3.2)\n",
    "1.3.3 [SAVEE Dataset](#1.3.3)\n",
    "1.3.4 [SAVEE Dataset](#1.3.4)\n",
    "\n",
    "\n",
    "<br>\n",
    "\n",
    "### 2. [Feature Extract](#2)\n",
    "\n",
    "2.1 [About This Dataset](#2.1)\n",
    "\n",
    "2.2 [Data preprocessing](#2.2)\n",
    "\n",
    "> - 2.2.1 [Drop column `ID` and `Insurance`](#2.2.1)\n",
    "> - 2.2.2 [Rename column `Sepssis`](#2.2.2)  \n",
    "> - 2.2.3 [Convert `Sepsis` in to binary number](#2.2.3)\n",
    "> - 2.2.4 [Drop Duplicate](#2.2.4)  \n",
    "> - 2.2.5 [Convert Data Type](#2.2.5)  \n",
    "\n",
    "2.3 [Drop column](#2.3)\n",
    "\n",
    "> - 2.3.1 [Check correllation for dropping](#2.3.1)\n",
    "> - 2.3.2 [Check missing values for dropping](#2.3.2)  \n",
    "\n",
    "2.4 [Upper Case the content](#2.4)\n",
    "\n",
    "2.5 [Extra-whitespaces](#2.5)\n",
    "\n",
    "2.6 [Descriptive statistics for Central Tendency](#2.6)\n",
    "\n",
    "> - 2.6.1 [Overview statistics](#2.6.1)\n",
    "> - 2.6.2 [Domain Knowledge](#2.6.2)  \n",
    "> - 2.6.3 [Detect Outliers](#2.6.2)  \n",
    "\n",
    "2.7 [Save The Intermediate Data](#2.8)\n",
    "\n",
    "<br>\n",
    "\n",
    "### 3. [Data exploration (EDA)](#3)\n",
    "\n",
    "3.1 [Overall look on target variable](#3.1)\n",
    "\n",
    "> - 3.1.1 [Distribution of Sepsis](#3.1.1) \n",
    "> - 3.1.2 [Proportion of Sepsis](#3.1.1) \n",
    "\n",
    "3.2 [Frequency of each corresponiding Target variable type](#3.2)\n",
    "\n",
    "> - 3.2.1 [How old are they?](#3.2.1) \n",
    "> - 3.2.2 [How much they weight?](#3.2.2) \n",
    "> - 3.2.3 [How high PL (Blood Work Result-1 (mu U/ml)) that the Sepsis is likely to get?](#3.2.3) \n",
    "> - 3.2.4 [How high PR ((Blood Pressure (mm Hg)) that the Sepsis is likely to get?](#3.2.4) \n",
    "> - 3.2.5 [How high SK (Blood Work Result-2 (mm) that the Sepsis is likely to get?](#3.2.5) \n",
    "> - 3.2.6 [How high TS (Blood Work Result-3 (mu U/ml)) that the Sepsis is likely to get?](#3.2.6) \n",
    "> - 3.2.7 [How high BD2 (Blood Work Result-4 (mu U/ml)) that the Sepsis is likely to get?](#3.2.7) \n",
    "> - 3.2.8 [How high BD2 (Blood Work Result-4 (mu U/ml)) that the Sepsis is likely to get?](#3.2.8) \n",
    "> - 3.2.9 [Scatter matrix](#3.2.8) \n",
    "\n",
    "3.3 [Statistical Test for Correlation](#3.3)\n",
    "\n",
    "3.4 [Summary](#3.3)\n",
    "\n",
    "<br>\n",
    "\n",
    "### 4. [Feature Engineering](#4)\n",
    "\n",
    "4.1 [Class Imbalancing](#4.1)\n",
    "\n",
    "4.2 [Splitting the training data](#4.2)\n",
    "\n",
    "4.3 [Feature Scaling](#4.3)\n",
    "\n",
    "\n",
    "\n",
    "<br>\n",
    "\n",
    "### 5. [Model Building](#5) \n",
    "\n",
    "5.1 [Logistic Regression](#5.1)\n",
    "\n",
    "> - 5.1.1 [Train Model](#5.1.1)\n",
    "> - 5.1.2 [Model Evaluation](#5.1.2)\n",
    "> - 5.1.3 [Hypertuning parameter](#5.1.3)\n",
    "> - 5.1.4 [Retrain](#5.1.4)\n",
    "> - 5.1.5 [Conclusion](#5.1.5)\n",
    "\n",
    "5.2 [Decision Tree](#5.2)\n",
    "\n",
    "> - 5.2.1 [Train Model](#5.2.1)\n",
    "> - 5.2.2 [Hypertuning & Pruning](#5.2.2)\n",
    "\n",
    "> - 5.2.2.a [Post-Pruning](#5.2.2.a)\n",
    "> - 5.2.2.b [Pre-Pruning](#5.2.2.b)\n",
    "> - 5.2.2.c [Hypertuning parameter](#5.2.2.c)\n",
    "\n",
    "> - 5.2.3 [Hypertuning parameter](#5.2.3)\n",
    "> - 5.2.4 [Conclusion](#5.2.3)\n",
    "\n",
    "5.3 [Random Forest](#5.3)\n",
    "\n",
    "> - 5.3.1 [Train Model](#5.3.1)\n",
    "> - 5.3.2 [Model Evaluation](#5.3.2)\n",
    "> - 5.3.3 [Hypertuning parameter](#5.3.3)\n",
    "> - 5.3.4 [Retrain](#5.3.4)\n",
    "> - 5.3.5 [Conclusion](#5.3.5)\n",
    "\n",
    "<br>\n",
    "\n",
    "### 6. [Conculsions](#5)\n",
    "\n",
    "<br>\n",
    "\n",
    "### 7. [References](#7)\n",
    "\n",
    "<br>\n",
    "\n",
    "### 8. [Appendix](#8)\n",
    "\n",
    "<hr>"
   ]
  },
  {
   "cell_type": "markdown",
   "metadata": {},
   "source": [
    "<a id=\"1\"></a>\n",
    "<h1 style=\"color:#ffc0cb;font-size:40px;font-family:Georgia;text-align:center;\"><strong> ✍️ 1. Data Preparation</strong></h1>"
   ]
  },
  {
   "cell_type": "markdown",
   "metadata": {},
   "source": [
    "<a id=\"1.1\"></a>\n",
    "# ️🎯 1.1 Introduction\n",
    "****\n",
    "\n",
    "<p style=\"list-style-type:circle;font-family:Yu Mincho Demibold;font-size:20px;color:black\"> Speech Emotion Recognition, or SER for short, is the process of trying to identify affective and emotional states in speech. This makes use of the fact that tone and pitch in the voice frequently convey underlying emotion. In order to comprehend human emotion, animals like dogs and horses also use this phenomenon. The component of speech recognition that is growing in popularity and demand is emotion recognition. Although there are ways to identify emotions from data using machine learning methods, this research tries to use deep learning to do so. SER (Speech Emotion Recognition) is used in contact centers to categorize conversations based on emotions and can be used as a performance metric for conversational analysis to identify the dissatisfied client, customer satisfaction, and other factors that can help businesses improve their services. It can also be utilized as an in-car board system based on information about the driver's mental state to ensure the driver's safety and prevent accidents.</p>\n",
    "\n",
    "## 📣 What datasets are used in this project?\n",
    "\n",
    "<ul style=\"list-style-type:circle;font-family:Yu Mincho Demibold;font-size:20px;color:black\">\n",
    "    <li> Crowd-sourced Emotional Mutimodal Actors Dataset (Crema-D) </li>\n",
    "    <li> Ryerson Audio-Visual Database of Emotional Speech and Song (Ravdess) </li>\n",
    "    <li> Surrey Audio-Visual Expressed Emotion (Savee) </li>\n",
    "    <li> Toronto emotional speech set (Tess) </li>\n",
    "</ul>"
   ]
  },
  {
   "cell_type": "markdown",
   "metadata": {},
   "source": [
    "<a id=\"1.2\"></a>\n",
    "# ✴️ 1.2 Importing Necessary Libraries and datasets\n",
    "****"
   ]
  },
  {
   "cell_type": "code",
   "execution_count": null,
   "metadata": {
    "_cell_guid": "b1076dfc-b9ad-4769-8c92-a6c4dae69d19",
    "_uuid": "8f2839f25d086af736a60e9eeb907d3b93b6e0e5",
    "execution": {
     "iopub.execute_input": "2022-09-23T10:07:11.273954Z",
     "iopub.status.busy": "2022-09-23T10:07:11.273593Z",
     "iopub.status.idle": "2022-09-23T10:07:16.072554Z",
     "shell.execute_reply": "2022-09-23T10:07:16.071414Z",
     "shell.execute_reply.started": "2022-09-23T10:07:11.273893Z"
    }
   },
   "outputs": [],
   "source": [
    "import os\n",
    "import sys\n",
    "\n",
    "# Import libraries \n",
    "import librosa\n",
    "import librosa.display\n",
    "\n",
    "\n",
    "import numpy as np\n",
    "import matplotlib.pyplot as plt\n",
    "plt.figure(figsize=(12, 4))\n",
    "import tensorflow as tf\n",
    "from matplotlib.pyplot import specgram\n",
    "import pandas as pd\n",
    "import glob \n",
    "from sklearn.metrics import confusion_matrix\n",
    "import IPython.display as ipd  # To play sound in the notebook\n",
    "\n",
    "# librosa is a Python library for analyzing audio and music. It can be used to extract the data from the audio files we will see it later.\n",
    "import librosa\n",
    "import librosa.display\n",
    "import seaborn as sns\n",
    "import matplotlib.pyplot as plt\n",
    "\n",
    "from sklearn.preprocessing import StandardScaler, OneHotEncoder\n",
    "from sklearn.metrics import confusion_matrix, classification_report\n",
    "from sklearn.model_selection import train_test_split\n",
    "\n",
    "# to play the audio files\n",
    "from IPython.display import Audio\n",
    "\n",
    "import keras\n",
    "from keras.callbacks import ReduceLROnPlateau\n",
    "from keras.models import Sequential\n",
    "from keras.layers import Dense, Conv1D, MaxPooling1D, Flatten, Dropout, BatchNormalization\n",
    "from keras.utils import np_utils, to_categorical\n",
    "from keras.callbacks import ModelCheckpoint\n",
    "\n",
    "import featureExtraction as FE #This one is for functions in python\n",
    "import warnings\n",
    "if not sys.warnoptions:\n",
    "    warnings.simplefilter(\"ignore\")\n",
    "warnings.filterwarnings(\"ignore\", category=DeprecationWarning) "
   ]
  },
  {
   "cell_type": "markdown",
   "metadata": {},
   "source": [
    "## Check numpy and pandas version"
   ]
  },
  {
   "cell_type": "code",
   "execution_count": null,
   "metadata": {},
   "outputs": [],
   "source": [
    "# check the version of the packages\n",
    "print(\"Numpy version: \", np.__version__)\n",
    "print(\"Pandas version: \",pd.__version__)\n",
    "! python --version"
   ]
  },
  {
   "cell_type": "markdown",
   "metadata": {},
   "source": [
    "### ------------> OBSERVATION\n",
    "***\n",
    "I want to check the numpy and pandas version since I want to make sure the verson is appropriate for my work load. Currently, it is still appropriate"
   ]
  },
  {
   "cell_type": "markdown",
   "metadata": {},
   "source": [
    "<a id=\"1.3\"></a>\n",
    "# 📲 1.3 Data Retrieving\n",
    "***\n",
    "<ul style=\"list-style-type:circle;font-family:Yu Mincho Demibold;font-size:20px;color:black\">\n",
    "    <li> I'll be developing a dataframe that stores all of the data's emotions along with their pathways because we're working with four different datasets. </li>\n",
    "    <li> From this dataframe, we will extract features to use in the training of our model.</li>\n",
    "</ul>"
   ]
  },
  {
   "cell_type": "markdown",
   "metadata": {},
   "source": [
    "The 4 sources of the datasets are all on Kaggle so I've just imported them into the workspace. The directory path to the 4 sources in this environment are below:"
   ]
  },
  {
   "cell_type": "code",
   "execution_count": null,
   "metadata": {
    "execution": {
     "iopub.execute_input": "2022-09-23T10:07:16.075677Z",
     "iopub.status.busy": "2022-09-23T10:07:16.075320Z",
     "iopub.status.idle": "2022-09-23T10:07:16.304437Z",
     "shell.execute_reply": "2022-09-23T10:07:16.303624Z",
     "shell.execute_reply.started": "2022-09-23T10:07:16.075608Z"
    }
   },
   "outputs": [],
   "source": [
    "#for dirname, _, filenames in os.walk('/kaggle/input'):\n",
    "#    for filename in filenames:\n",
    "#        print(os.path.join(dirname, filename))\n",
    "\n",
    "RAV = \"ravdess/\"\n",
    "CREMA = \"cremad/\"\n",
    "TESS = \"tess/\"\n",
    "Savee = \"savee/\""
   ]
  },
  {
   "cell_type": "markdown",
   "metadata": {},
   "source": [
    "<a id=\"savee\"></a>\n",
    "##  <center> 1. SAVEE dataset <center>\n",
    "The audio files are named in such a way that the prefix letters describes the emotion classes as follows:\n",
    "- 'a' = 'anger'\n",
    "- 'd' = 'disgust'\n",
    "- 'f' = 'fear'\n",
    "- 'h' = 'happiness'\n",
    "- 'n' = 'neutral'\n",
    "- 'sa' = 'sadness'\n",
    "- 'su' = 'surprise' \n",
    "\n",
    "The original source has 4 folders each representing a speaker, but i've bundled all of them into one single folder and thus the first 2 letter prefix of the filename represents the speaker initials. Eg. 'DC_d03.wav' is the 3rd disgust sentence uttered by the speaker DC. It's  worth nothing that they are all male speakers only. This isn't an issue as we'll balance it out with the TESS dataset which is just female only. So lets check out the distribution of the emotions..."
   ]
  },
  {
   "cell_type": "markdown",
   "metadata": {},
   "source": [
    "<a id=\"savee_load\"></a>\n",
    "###  Load the dataset \n",
    "I'm not going to be reading the entire audio to memory. Rather I'm just going to read the meta-data associated with it. Cause at this point I just want a high level snapshot of some statistics. And then I might just load 1 or 2 audio files and expand on it. \n",
    "\n",
    "So lets take 2 different emotions and play it just to get a feel for what we are dealing with. Ie. whether the data (audio) quality is good. It gives us an early insight as to how likely our classifier is going to be successful.  "
   ]
  },
  {
   "cell_type": "code",
   "execution_count": null,
   "metadata": {
    "execution": {
     "iopub.execute_input": "2022-09-23T10:07:16.305821Z",
     "iopub.status.busy": "2022-09-23T10:07:16.305546Z",
     "iopub.status.idle": "2022-09-23T10:07:16.333260Z",
     "shell.execute_reply": "2022-09-23T10:07:16.332266Z",
     "shell.execute_reply.started": "2022-09-23T10:07:16.305758Z"
    }
   },
   "outputs": [],
   "source": [
    "# Get the data location for SAVEE\n",
    "dir_list = os.listdir(Savee)\n",
    "\n",
    "# parse the filename to get the emotions\n",
    "emotion=[]\n",
    "path = []\n",
    "for i in dir_list:\n",
    "    if i[-8:-6]=='_a':\n",
    "        emotion.append('male_angry')\n",
    "    elif i[-8:-6]=='_d':\n",
    "        emotion.append('male_disgust')\n",
    "    elif i[-8:-6]=='_f':\n",
    "        emotion.append('male_fear')\n",
    "    elif i[-8:-6]=='_h':\n",
    "        emotion.append('male_happy')\n",
    "    elif i[-8:-6]=='_n':\n",
    "        emotion.append('male_neutral')\n",
    "    elif i[-8:-6]=='sa':\n",
    "        emotion.append('male_sad')\n",
    "    elif i[-8:-6]=='su':\n",
    "        emotion.append('male_surprise')\n",
    "    else:\n",
    "        emotion.append('male_error') \n",
    "    path.append(Savee + i)\n",
    "    \n",
    "# Now check out the label count distribution \n",
    "SAVEE_df = pd.DataFrame(emotion, columns = ['labels'])\n",
    "SAVEE_df['source'] = 'SAVEE'\n",
    "SAVEE_df = pd.concat([SAVEE_df, pd.DataFrame(path, columns = ['path'])], axis = 1)\n",
    "SAVEE_df.labels.value_counts()"
   ]
  },
  {
   "cell_type": "markdown",
   "metadata": {},
   "source": [
    "<a id=\"savee_explore\"></a>\n",
    "### Explore the data\n",
    "So a quick introduction about the audio data before we carry on too far. A sound is a vibration of air molecules, and our eardrums interprets it as sound, or music. The below wave plot is a graphical representation of a sound wave vibration overtime. Its in this wave that we need to find the key pattern that will help us distinguish the different emotions. \n",
    "\n",
    "There's a nice website that gives a very nice summary of the core audio concepts [here](http://help.nchsoftware.com/help/en/wavepad/win/concepts.html). We're going to plot one or two audio files here selected randomly, just to get a feel for the type of data we're dealing with. Eg. Does it contain lots of background noise? Is the emotions clear? etc. The idea being that, if a human struggles to interpret the data, then its very likely the model isn't going to do a very good job either. "
   ]
  },
  {
   "cell_type": "code",
   "execution_count": null,
   "metadata": {
    "execution": {
     "iopub.execute_input": "2022-09-23T10:07:16.335691Z",
     "iopub.status.busy": "2022-09-23T10:07:16.334995Z",
     "iopub.status.idle": "2022-09-23T10:07:17.597960Z",
     "shell.execute_reply": "2022-09-23T10:07:17.597040Z",
     "shell.execute_reply.started": "2022-09-23T10:07:16.335359Z"
    }
   },
   "outputs": [],
   "source": [
    "# use the well known Librosa library for this task \n",
    "fname = Savee + 'DC_f11.wav'  \n",
    "data, sampling_rate = librosa.load(fname)\n",
    "plt.figure(figsize=(15, 5))\n",
    "librosa.display.waveshow(data, sr=sampling_rate)\n",
    "\n",
    "\n",
    "# Lets play the audio \n",
    "ipd.Audio(fname)"
   ]
  },
  {
   "cell_type": "markdown",
   "metadata": {},
   "source": [
    "So that's a fearful sample. Not alot of background noise and the speech is very clear. So that's good news for us in terms of data quality. The wave plot doesn't really tell much other than there's a variation in the wave, which is good. If it was just a constant oscilating wave form, like those heart-rate-monitors ... then we definitely have a problem. \n",
    "\n",
    "But we don't which is great. And we can also tell that the audio file is 3 secs. That's good. Its long enough for someone to express an emotion in a sentence, and not too long such that the emotions changes to neutral. How about we play a happy audio file and see how different they are? "
   ]
  },
  {
   "cell_type": "code",
   "execution_count": null,
   "metadata": {
    "execution": {
     "iopub.execute_input": "2022-09-23T10:07:17.601243Z",
     "iopub.status.busy": "2022-09-23T10:07:17.600900Z",
     "iopub.status.idle": "2022-09-23T10:07:18.223222Z",
     "shell.execute_reply": "2022-09-23T10:07:18.222253Z",
     "shell.execute_reply.started": "2022-09-23T10:07:17.601180Z"
    }
   },
   "outputs": [],
   "source": [
    "# Lets play a happy track\n",
    "fname = Savee + 'DC_h11.wav'  \n",
    "data, sampling_rate = librosa.load(fname)\n",
    "plt.figure(figsize=(15, 5))\n",
    "librosa.display.waveshow(data, sr=sampling_rate)\n",
    "\n",
    "# Lets play the audio \n",
    "ipd.Audio(fname)"
   ]
  },
  {
   "cell_type": "markdown",
   "metadata": {},
   "source": [
    "<a id=\"savee_con\"></a>\n",
    "### Conclusion\n",
    "So again, good quality audio. And I can see that the wave form is distinctively different from the fear one. So that's good for our model. I did notice that there's a very short silence period between start and end. We could potentially trim it later to enhance the quality. Also, the sentence uttered is different so its not exactly an apple to apple comparison but it still gives us a good early indication of what we're dealing with. \n",
    "\n",
    "All in all, I'm happy with this data. We're going to use it for our audio emotion classifier. Now lets look at our next audio dataset..."
   ]
  },
  {
   "cell_type": "markdown",
   "metadata": {},
   "source": [
    "<a id=\"ravdess\"></a>\n",
    "## <center>2. RAVDESS dataset</center>\n",
    "\n",
    "RAVDESS is one of the more common dataset used for this excercise by others. It's well liked because of its quality of speakers, recording and it has 24 actors of different genders. And there's more! You can get it in song format as well. There's something for everyone and their research project. So for convenience, here's the filename identifiers as per the official RAVDESS website:\n",
    "\n",
    "- Modality (01 = full-AV, 02 = video-only, 03 = audio-only).\n",
    "- Vocal channel (01 = speech, 02 = song).\n",
    "- Emotion (01 = neutral, 02 = calm, 03 = happy, 04 = sad, 05 = angry, 06 = fearful, 07 = disgust, 08 = surprised).\n",
    "- Emotional intensity (01 = normal, 02 = strong). NOTE: There is no strong intensity for the 'neutral' emotion.\n",
    "- Statement (01 = \"Kids are talking by the door\", 02 = \"Dogs are sitting by the door\").\n",
    "- Repetition (01 = 1st repetition, 02 = 2nd repetition).\n",
    "- Actor (01 to 24. Odd numbered actors are male, even numbered actors are female).\n",
    "\n",
    "So, here's an example of an audio filename. \n",
    "_02-01-06-01-02-01-12.mp4_\n",
    "\n",
    "This means the meta data for the audio file is:\n",
    "- Video-only (02)\n",
    "- Speech (01)\n",
    "- Fearful (06)\n",
    "- Normal intensity (01)\n",
    "- Statement \"dogs\" (02)\n",
    "- 1st Repetition (01)\n",
    "- 12th Actor (12) - Female (as the actor ID number is even)\n",
    "\n",
    "At my early beginings embarking on this journey, I learnt through the hard way that male and female speakers have to be trained seperately or the model will struggle to get a good accuracy. From reading a few blogs and articles, it seems female has a higher pitch that male. So if we don't tag the gender label to the audio file, it won't be able to detect anger or fear if it was a male speaker. It will just get bucketed into neutral \n",
    "\n",
    "Lets specifically model the 2 speakers seperately. Note that there's a 'calm' emotion and a 'neutral' emotion as seperate. I don't really know the difference but for now, I'll just combined them into the same category."
   ]
  },
  {
   "cell_type": "markdown",
   "metadata": {},
   "source": [
    "<a id=\"ravdess_load\"></a>\n",
    "###  Load the dataset \n",
    "Because of the way the entire data was packaged for us, and the format of the audio filename, there's a few more parsing steps required for the RAVDESS dataset compared to SAVEE "
   ]
  },
  {
   "cell_type": "code",
   "execution_count": null,
   "metadata": {
    "execution": {
     "iopub.execute_input": "2022-09-23T10:07:18.225922Z",
     "iopub.status.busy": "2022-09-23T10:07:18.225473Z",
     "iopub.status.idle": "2022-09-23T10:07:18.875381Z",
     "shell.execute_reply": "2022-09-23T10:07:18.874379Z",
     "shell.execute_reply.started": "2022-09-23T10:07:18.225843Z"
    }
   },
   "outputs": [],
   "source": [
    "dir_list = os.listdir(RAV)\n",
    "dir_list.sort()\n",
    "\n",
    "emotion = []\n",
    "gender = []\n",
    "path = []\n",
    "for i in dir_list:\n",
    "    if not i.startswith('.'):\n",
    "        fname = os.listdir(RAV + i)\n",
    "        for f in fname:\n",
    "            part = f.split('.')[0].split('-')\n",
    "            emotion.append(int(part[2]))\n",
    "            temp = int(part[6])\n",
    "            if temp%2 == 0:\n",
    "                temp = \"female\"\n",
    "            else:\n",
    "                temp = \"male\"\n",
    "            gender.append(temp)\n",
    "            path.append(RAV + i + '/' + f)\n",
    "\n",
    "        \n",
    "RAV_df = pd.DataFrame(emotion)\n",
    "RAV_df = RAV_df.replace({1:'neutral', 2:'neutral', 3:'happy', 4:'sad', 5:'angry', 6:'fear', 7:'disgust', 8:'surprise'})\n",
    "RAV_df = pd.concat([pd.DataFrame(gender),RAV_df],axis=1)\n",
    "RAV_df.columns = ['gender','emotion']\n",
    "RAV_df['labels'] =RAV_df.gender + '_' + RAV_df.emotion\n",
    "RAV_df['source'] = 'RAVDESS'  \n",
    "RAV_df = pd.concat([RAV_df,pd.DataFrame(path, columns = ['path'])],axis=1)\n",
    "RAV_df = RAV_df.drop(['gender', 'emotion'], axis=1)\n",
    "RAV_df.labels.value_counts()"
   ]
  },
  {
   "cell_type": "markdown",
   "metadata": {},
   "source": [
    "<a id=\"ravdess_explore\"></a>\n",
    "### Explore the data\n",
    "Lets do the same thing again, take 2 audio files, play it and plot it to see what we're dealing with. And how different they are to SAVEE as we go along. Lets start with a fearful track"
   ]
  },
  {
   "cell_type": "code",
   "execution_count": null,
   "metadata": {
    "execution": {
     "iopub.execute_input": "2022-09-23T10:07:18.877017Z",
     "iopub.status.busy": "2022-09-23T10:07:18.876541Z",
     "iopub.status.idle": "2022-09-23T10:07:19.313547Z",
     "shell.execute_reply": "2022-09-23T10:07:19.312633Z",
     "shell.execute_reply.started": "2022-09-23T10:07:18.876967Z"
    }
   },
   "outputs": [],
   "source": [
    "# Pick a fearful track\n",
    "fname = RAV + 'Actor_14/03-01-06-02-02-02-14.wav'  \n",
    "data, sampling_rate = librosa.load(fname)\n",
    "plt.figure(figsize=(15, 5))\n",
    "librosa.display.waveshow(data, sr=sampling_rate)\n",
    "\n",
    "# Lets play the audio \n",
    "ipd.Audio(fname)"
   ]
  },
  {
   "cell_type": "markdown",
   "metadata": {},
   "source": [
    "Excellent audio quality. And well acted out. I think you can genuinely feel the fear from the speaker. I do notice that there's a lot of silence between the start and end. We'll address it later in later parts. Lets play another random file, maybe a happy one this time."
   ]
  },
  {
   "cell_type": "code",
   "execution_count": null,
   "metadata": {
    "execution": {
     "iopub.execute_input": "2022-09-23T10:07:19.315237Z",
     "iopub.status.busy": "2022-09-23T10:07:19.314812Z",
     "iopub.status.idle": "2022-09-23T10:07:19.785286Z",
     "shell.execute_reply": "2022-09-23T10:07:19.784457Z",
     "shell.execute_reply.started": "2022-09-23T10:07:19.315190Z"
    }
   },
   "outputs": [],
   "source": [
    "# Pick a happy track\n",
    "fname = RAV + 'Actor_14/03-01-03-02-02-02-14.wav'  \n",
    "data, sampling_rate = librosa.load(fname)\n",
    "plt.figure(figsize=(15, 5))\n",
    "librosa.display.waveshow(data, sr=sampling_rate)\n",
    "\n",
    "# Lets play the audio \n",
    "ipd.Audio(fname)"
   ]
  },
  {
   "cell_type": "markdown",
   "metadata": {},
   "source": [
    "<a id=\"ravdess_con\"></a>\n",
    "### Conclusion\n",
    "...ok, to be fairly honest, I actual felt like that was a fearful tone at the start, up until the end. I had to play it 3 or 4 times to finally be convienced that it is indeed a happy sound. Looking at the wave plot between the 2 files, I notice the only real difference is the amplitute wherein this happy track has a higher amplituted at various points. But, could be coincidence, who knows at this stage. \n",
    "\n",
    "What I do know is that the audio quality is good and we need females in the dataset. If we don't include females, we'll end up with an AI that is bias towards / aagainst one gender, and its unethical. Unless there's a good reason, I'm not taking it out.  "
   ]
  },
  {
   "cell_type": "markdown",
   "metadata": {},
   "source": [
    "<a id=\"tess\"></a>\n",
    "##  <center> 3. TESS dataset <center>\n",
    "Now on to the TESS dataset, its worth nothing that it's only based on 2 speakers, a young female and an older female. This should hopefully balance out the male dominant speakers that we have on SAVEE. \n",
    "\n",
    "Its got the same 7 key emotions we're interested in. But what is slightly different about this dataset compared to the previous two above, is that the addition of 'pleasant surprise' emotion. I haven't really checked to see for the RADVESS and SAVEE dataset, if the surpises are unpleasant. But I'm going to work with the assumption for now that its a pleasant surprise. If we find out from post modelling, surpise is highly inaccurate, we can come back and modify our assumption here. "
   ]
  },
  {
   "cell_type": "markdown",
   "metadata": {},
   "source": [
    "<a id=\"tess_load\"></a>\n",
    "###  Load the dataset \n",
    "The speakers and the emotions are organised in seperate folders which is very convenient"
   ]
  },
  {
   "cell_type": "code",
   "execution_count": null,
   "metadata": {
    "execution": {
     "iopub.execute_input": "2022-09-23T10:07:19.786770Z",
     "iopub.status.busy": "2022-09-23T10:07:19.786379Z",
     "iopub.status.idle": "2022-09-23T10:07:19.809293Z",
     "shell.execute_reply": "2022-09-23T10:07:19.808262Z",
     "shell.execute_reply.started": "2022-09-23T10:07:19.786723Z"
    }
   },
   "outputs": [],
   "source": [
    "dir_list = os.listdir(TESS)\n",
    "dir_list.sort()\n",
    "dir_list"
   ]
  },
  {
   "cell_type": "code",
   "execution_count": null,
   "metadata": {
    "execution": {
     "iopub.execute_input": "2022-09-23T10:07:19.810826Z",
     "iopub.status.busy": "2022-09-23T10:07:19.810430Z",
     "iopub.status.idle": "2022-09-23T10:07:20.898643Z",
     "shell.execute_reply": "2022-09-23T10:07:20.897929Z",
     "shell.execute_reply.started": "2022-09-23T10:07:19.810771Z"
    }
   },
   "outputs": [],
   "source": [
    "path = []\n",
    "emotion = []\n",
    "\n",
    "for i in dir_list:\n",
    "    fname = os.listdir(TESS + i)\n",
    "    for f in fname:\n",
    "        if i == 'OAF_angry' or i == 'YAF_angry':\n",
    "            emotion.append('female_angry')\n",
    "        elif i == 'OAF_disgust' or i == 'YAF_disgust':\n",
    "            emotion.append('female_disgust')\n",
    "        elif i == 'OAF_Fear' or i == 'YAF_fear':\n",
    "            emotion.append('female_fear')\n",
    "        elif i == 'OAF_happy' or i == 'YAF_happy':\n",
    "            emotion.append('female_happy')\n",
    "        elif i == 'OAF_neutral' or i == 'YAF_neutral':\n",
    "            emotion.append('female_neutral')                                \n",
    "        elif i == 'OAF_Pleasant_surprise' or i == 'YAF_pleasant_surprised':\n",
    "            emotion.append('female_surprise')               \n",
    "        elif i == 'OAF_Sad' or i == 'YAF_sad':\n",
    "            emotion.append('female_sad')\n",
    "        else:\n",
    "            emotion.append('Unknown')\n",
    "        path.append(TESS + i + \"/\" + f)\n",
    "\n",
    "TESS_df = pd.DataFrame(emotion, columns = ['labels'])\n",
    "TESS_df['source'] = 'TESS'\n",
    "TESS_df = pd.concat([TESS_df,pd.DataFrame(path, columns = ['path'])],axis=1)\n",
    "TESS_df.labels.value_counts()"
   ]
  },
  {
   "cell_type": "markdown",
   "metadata": {},
   "source": [
    "<a id=\"tess_explore\"></a>\n",
    "### Explore the data\n",
    "400 files for each key emotion. Nice. So lets do the same thing again, take 2 audio files, play it and plot it to see what we're dealing with. Lets start with a fearful track"
   ]
  },
  {
   "cell_type": "code",
   "execution_count": null,
   "metadata": {
    "execution": {
     "iopub.execute_input": "2022-09-23T10:07:20.900695Z",
     "iopub.status.busy": "2022-09-23T10:07:20.900116Z",
     "iopub.status.idle": "2022-09-23T10:07:21.632506Z",
     "shell.execute_reply": "2022-09-23T10:07:21.631514Z",
     "shell.execute_reply.started": "2022-09-23T10:07:20.900632Z"
    }
   },
   "outputs": [],
   "source": [
    "# lets play a fearful track \n",
    "fname = TESS + 'YAF_fear/YAF_dog_fear.wav' \n",
    "\n",
    "data, sampling_rate = librosa.load(fname)\n",
    "plt.figure(figsize=(15, 5))\n",
    "librosa.display.waveshow(data, sr=sampling_rate)\n",
    "\n",
    "# Lets play the audio \n",
    "ipd.Audio(fname)"
   ]
  },
  {
   "cell_type": "markdown",
   "metadata": {},
   "source": [
    "She sound almost the same as the female speaker from RAVDESS. Maybe when I have time I will go and investigate but for now,  the most important insight for me is that the expression of the emotions are very similar to RAVDESS and thus is a good indication it will serve as a good training dataset"
   ]
  },
  {
   "cell_type": "code",
   "execution_count": null,
   "metadata": {
    "execution": {
     "iopub.execute_input": "2022-09-23T10:07:21.634452Z",
     "iopub.status.busy": "2022-09-23T10:07:21.634067Z",
     "iopub.status.idle": "2022-09-23T10:07:22.398837Z",
     "shell.execute_reply": "2022-09-23T10:07:22.398009Z",
     "shell.execute_reply.started": "2022-09-23T10:07:21.634382Z"
    }
   },
   "outputs": [],
   "source": [
    "# lets play a happy track \n",
    "fname =  TESS + 'YAF_happy/YAF_dog_happy.wav' \n",
    "\n",
    "data, sampling_rate = librosa.load(fname)\n",
    "plt.figure(figsize=(15, 5))\n",
    "librosa.display.waveshow(data, sr=sampling_rate)\n",
    "\n",
    "# Lets play the audio \n",
    "ipd.Audio(fname)"
   ]
  },
  {
   "cell_type": "markdown",
   "metadata": {},
   "source": [
    "<a id=\"tess_con\"></a>\n",
    "### Conclusion\n",
    "Thats a beautiful happy voice, I played it a few times I must admit. Notice the amplitute is pretty high too on a few data points? We saw that on the RAVDESS dataset too. Perhaps that could be one of the few distinguishing factors? Because the speakers are the same, and the sentence uttered are the same, its an apples to apples comparison.  \n",
    "\n",
    "Again, who knows. For now what I do know is that the data quality is amazing and we're using it. The audio duration is about the same too hovering the 2 to 4 seconds mark."
   ]
  },
  {
   "cell_type": "markdown",
   "metadata": {},
   "source": [
    "<a id=\"crema\"></a>\n",
    "##  <center> 4. CREMA-D dataset <center>\n",
    "Last but not least, CREMA dataset. Not much is known about this dataset and I don't see much usage of this in general in the wild. But its a very large dataset which we need. And it has a good variety of different speakers, apparently taken from movies. And the speakers are of different ethnicities. This is good. Means better generalisation when we do transfer learning. Very important\n",
    "\n",
    "What we are missing from this dataset is the \"surprise\" emotion but no biggie, we can use the rest. But we have the rest. What's extra here is that it has different level of intensity of the emotion like RAVDESS. But we won't be using that for now"
   ]
  },
  {
   "cell_type": "markdown",
   "metadata": {},
   "source": [
    "<a id=\"crema_load\"></a>\n",
    "###  Load the dataset \n",
    "The speakers and the emotions like all previous datasets, are tagged in the audio filename itself. However, what we are missing is the Gender, which is kept as a seperate csv file that maps the actors. Instead of reading it and doing some matching, I'm just going to hardcode it here instead. Not the best practice but can do for now. "
   ]
  },
  {
   "cell_type": "code",
   "execution_count": null,
   "metadata": {
    "execution": {
     "iopub.execute_input": "2022-09-23T10:07:22.400372Z",
     "iopub.status.busy": "2022-09-23T10:07:22.399993Z",
     "iopub.status.idle": "2022-09-23T10:07:22.865056Z",
     "shell.execute_reply": "2022-09-23T10:07:22.863994Z",
     "shell.execute_reply.started": "2022-09-23T10:07:22.400329Z"
    }
   },
   "outputs": [],
   "source": [
    "dir_list = os.listdir(CREMA)\n",
    "dir_list.sort()\n",
    "print(dir_list[0:10])"
   ]
  },
  {
   "cell_type": "code",
   "execution_count": null,
   "metadata": {
    "execution": {
     "iopub.execute_input": "2022-09-23T10:07:22.867318Z",
     "iopub.status.busy": "2022-09-23T10:07:22.866629Z",
     "iopub.status.idle": "2022-09-23T10:07:22.919097Z",
     "shell.execute_reply": "2022-09-23T10:07:22.917664Z",
     "shell.execute_reply.started": "2022-09-23T10:07:22.867257Z"
    }
   },
   "outputs": [],
   "source": [
    "gender = []\n",
    "emotion = []\n",
    "path = []\n",
    "female = [1002,1003,1004,1006,1007,1008,1009,1010,1012,1013,1018,1020,1021,1024,1025,1028,1029,1030,1037,1043,1046,1047,1049,\n",
    "          1052,1053,1054,1055,1056,1058,1060,1061,1063,1072,1073,1074,1075,1076,1078,1079,1082,1084,1089,1091]\n",
    "\n",
    "for i in dir_list: \n",
    "    part = i.split('_')\n",
    "    if int(part[0]) in female:\n",
    "        temp = 'female'\n",
    "    else:\n",
    "        temp = 'male'\n",
    "    gender.append(temp)\n",
    "    if part[2] == 'SAD' and temp == 'male':\n",
    "        emotion.append('male_sad')\n",
    "    elif part[2] == 'ANG' and temp == 'male':\n",
    "        emotion.append('male_angry')\n",
    "    elif part[2] == 'DIS' and temp == 'male':\n",
    "        emotion.append('male_disgust')\n",
    "    elif part[2] == 'FEA' and temp == 'male':\n",
    "        emotion.append('male_fear')\n",
    "    elif part[2] == 'HAP' and temp == 'male':\n",
    "        emotion.append('male_happy')\n",
    "    elif part[2] == 'NEU' and temp == 'male':\n",
    "        emotion.append('male_neutral')\n",
    "    elif part[2] == 'SAD' and temp == 'female':\n",
    "        emotion.append('female_sad')\n",
    "    elif part[2] == 'ANG' and temp == 'female':\n",
    "        emotion.append('female_angry')\n",
    "    elif part[2] == 'DIS' and temp == 'female':\n",
    "        emotion.append('female_disgust')\n",
    "    elif part[2] == 'FEA' and temp == 'female':\n",
    "        emotion.append('female_fear')\n",
    "    elif part[2] == 'HAP' and temp == 'female':\n",
    "        emotion.append('female_happy')\n",
    "    elif part[2] == 'NEU' and temp == 'female':\n",
    "        emotion.append('female_neutral')\n",
    "    else:\n",
    "        emotion.append('Unknown')\n",
    "    path.append(CREMA + i)\n",
    "    \n",
    "CREMA_df = pd.DataFrame(emotion, columns = ['labels'])\n",
    "CREMA_df['source'] = 'CREMA'\n",
    "CREMA_df = pd.concat([CREMA_df,pd.DataFrame(path, columns = ['path'])],axis=1)\n",
    "CREMA_df.labels.value_counts()"
   ]
  },
  {
   "cell_type": "markdown",
   "metadata": {},
   "source": [
    "<a id=\"crema_explore\"></a>\n",
    "### Explore the data\n",
    "Ok so that's alot of data. Nice. Lets do the same thing again, take 2 audio files, play it and plot it to see what we're dealing with. Lets start with a happy track"
   ]
  },
  {
   "cell_type": "code",
   "execution_count": null,
   "metadata": {
    "execution": {
     "iopub.execute_input": "2022-09-23T10:07:22.921905Z",
     "iopub.status.busy": "2022-09-23T10:07:22.921427Z",
     "iopub.status.idle": "2022-09-23T10:07:23.226994Z",
     "shell.execute_reply": "2022-09-23T10:07:23.226085Z",
     "shell.execute_reply.started": "2022-09-23T10:07:22.921815Z"
    }
   },
   "outputs": [],
   "source": [
    "# use the well known Librosa library for this task \n",
    "fname = CREMA + '1012_IEO_HAP_HI.wav'  \n",
    "data, sampling_rate = librosa.load(fname)\n",
    "plt.figure(figsize=(15, 5))\n",
    "librosa.display.waveshow(data, sr=sampling_rate)\n",
    "\n",
    "# Lets play the audio \n",
    "ipd.Audio(fname)"
   ]
  },
  {
   "cell_type": "markdown",
   "metadata": {},
   "source": [
    "So the audio itself is alittle echoey, for the lack of a better word. Its not as clear as what we've seen from the other data sets. And I'm not so sure if it'd consider the emotion happy. Sounds to me more like neutral. But then again, could be due to the audio quality. Lets listen to another one, a fearful one.  "
   ]
  },
  {
   "cell_type": "code",
   "execution_count": null,
   "metadata": {
    "execution": {
     "iopub.execute_input": "2022-09-23T10:07:23.229378Z",
     "iopub.status.busy": "2022-09-23T10:07:23.228960Z",
     "iopub.status.idle": "2022-09-23T10:07:23.542320Z",
     "shell.execute_reply": "2022-09-23T10:07:23.541595Z",
     "shell.execute_reply.started": "2022-09-23T10:07:23.229297Z"
    }
   },
   "outputs": [],
   "source": [
    "# A fearful track\n",
    "fname = CREMA + '1012_IEO_FEA_HI.wav'  \n",
    "data, sampling_rate = librosa.load(fname)\n",
    "plt.figure(figsize=(15, 5))\n",
    "librosa.display.waveshow(data, sr=sampling_rate)\n",
    "\n",
    "# Lets play the audio \n",
    "ipd.Audio(fname)"
   ]
  },
  {
   "cell_type": "markdown",
   "metadata": {},
   "source": [
    "<a id=\"crema_con\"></a>\n",
    "### Conclusion\n",
    "The same sentence uttered and quite convincing that its a fearful emotion there. Much clearer than the happy version. Now, I went back to listen a few more random tracks and what I noticed with this CREMA-D dataset is that its is highly varied in its quality. Some are crisp clear and some are really muffled or echoey. Also there's lots of silence as well. All in all, slightly 'dirtier' version of the data. But still good quality data none the less and we'll definitely use it. On the up side, a slightly noisy dataset would serve as a very good data augmentation by introducing noise to the pattern which we don't have so far. "
   ]
  },
  {
   "cell_type": "code",
   "execution_count": null,
   "metadata": {},
   "outputs": [],
   "source": [
    "df = pd.concat([SAVEE_df, RAV_df, TESS_df, CREMA_df], axis = 0)\n",
    "print(df.labels.value_counts())\n",
    "df.head()"
   ]
  },
  {
   "cell_type": "markdown",
   "metadata": {},
   "source": [
    "<a id=\"2\"></a>\n",
    "<h1 style=\"color:#ffc0cb;font-size:40px;font-family:Georgia;text-align:center;\"><strong> 📊 2. Data exploration (EDA)</strong></h1>"
   ]
  },
  {
   "cell_type": "markdown",
   "metadata": {},
   "source": [
    "<a id=\"2.1\"></a>\n",
    "# 2.1 Waveplots and spectograms for audio signals\n",
    "******"
   ]
  },
  {
   "cell_type": "code",
   "execution_count": null,
   "metadata": {},
   "outputs": [],
   "source": [
    "emotion='female_fear'\n",
    "path = np.array(df.path[df.labels==emotion])[1]\n",
    "data, sampling_rate = librosa.load(path)\n",
    "FE.create_waveplot(data, sampling_rate, emotion)\n",
    "FE.create_spectrogram(data, sampling_rate, emotion)\n",
    "Audio(path)"
   ]
  },
  {
   "cell_type": "markdown",
   "metadata": {},
   "source": [
    "### ------------> OBSERVATION\n",
    "***\n",
    "The variance of the frequency of the `female_fear` emotion seem to be quite large"
   ]
  },
  {
   "cell_type": "markdown",
   "metadata": {},
   "source": [
    "<a id=\"2.2\"></a>\n",
    "# 2.2 Statistical features\n",
    "******\n",
    "Now we've seen the shape of an MFCC output for each file, and it's a 2D matrix format with MFCC bands on the y-axis and time on the x-axis, representing the MFCC bands over time. To simplify things, what we're going to do is take the mean across each band over time. In other words, row means. But how does it present as a distinctive feature? \n",
    "\n",
    "So if you look at the above MFCC plot, the first band at the bottom is the most distinctive band over the other bands. Since the time window is a short one, the changes observed overtime does not vary greatly. The key feature is capturing the information contained in the various bands. Lets plot the mean of each of the band and display it as a time series plot to illustrate the point. \n",
    "\n",
    "We'll compare the Angry female and Angry male for the same sentence uttered. "
   ]
  },
  {
   "cell_type": "code",
   "execution_count": null,
   "metadata": {},
   "outputs": [],
   "source": [
    "# Source - RAVDESS; Gender - Female; Emotion - Angry \n",
    "path = \"ravdess/Actor_08/03-01-05-02-01-01-08.wav\"\n",
    "X, sample_rate = librosa.load(path, res_type='kaiser_fast',duration=2.5,sr=22050*2,offset=0.5)  \n",
    "female = librosa.feature.mfcc(y=X, sr=sample_rate, n_mfcc=13)\n",
    "female = np.mean(librosa.feature.mfcc(y=X, sr=sample_rate, n_mfcc=13), axis=0)\n",
    "print(len(female))\n",
    "\n",
    "# Source - RAVDESS; Gender - Male; Emotion - Angry \n",
    "path = \"ravdess/Actor_09/03-01-05-01-01-01-09.wav\"\n",
    "X, sample_rate = librosa.load(path, res_type='kaiser_fast',duration=2.5,sr=22050*2,offset=0.5)  \n",
    "male = librosa.feature.mfcc(y=X, sr=sample_rate, n_mfcc=13)\n",
    "male = np.mean(librosa.feature.mfcc(y=X, sr=sample_rate, n_mfcc=13), axis=0)\n",
    "print(len(male))\n",
    "\n",
    "# audio wave\n",
    "plt.figure(figsize=(20, 15))\n",
    "plt.subplot(3,1,1)\n",
    "plt.plot(female, label='female')\n",
    "plt.plot(male, label='male')\n",
    "plt.legend()"
   ]
  },
  {
   "cell_type": "markdown",
   "metadata": {},
   "source": [
    "### ------------> OBSERVATION\n",
    "***\n",
    "There is a clear distint difference between male and female in that females tends to have a higher pitch."
   ]
  },
  {
   "cell_type": "markdown",
   "metadata": {},
   "source": [
    "<a id=\"2\"></a>\n",
    "<h1 style=\"color:#ffc0cb;font-size:40px;font-family:Georgia;text-align:center;\"><strong> 🛠 3. Feature Extraction</strong></h1>"
   ]
  },
  {
   "cell_type": "code",
   "execution_count": null,
   "metadata": {},
   "outputs": [],
   "source": [
    "df"
   ]
  },
  {
   "cell_type": "code",
   "execution_count": null,
   "metadata": {},
   "outputs": [],
   "source": [
    "# taking any example and checking for techniques.\n",
    "path = np.array(df.path)[1]\n",
    "data, sample_rate = librosa.load(path)"
   ]
  },
  {
   "cell_type": "code",
   "execution_count": null,
   "metadata": {},
   "outputs": [],
   "source": [
    "X, Y = [], []\n",
    "for path, emotion in zip(df.path, df.labels):\n",
    "    feature = FE.get_features(path, sample_rate)\n",
    "    for ele in feature:\n",
    "        X.append(ele)\n",
    "        # appending emotion 3 times as we have made 3 augmentation techniques on each audio file.\n",
    "        Y.append(emotion)"
   ]
  },
  {
   "cell_type": "code",
   "execution_count": null,
   "metadata": {},
   "outputs": [],
   "source": []
  },
  {
   "cell_type": "code",
   "execution_count": null,
   "metadata": {},
   "outputs": [],
   "source": []
  },
  {
   "cell_type": "code",
   "execution_count": null,
   "metadata": {},
   "outputs": [],
   "source": []
  },
  {
   "cell_type": "code",
   "execution_count": null,
   "metadata": {},
   "outputs": [],
   "source": []
  },
  {
   "cell_type": "code",
   "execution_count": null,
   "metadata": {},
   "outputs": [],
   "source": []
  },
  {
   "cell_type": "code",
   "execution_count": null,
   "metadata": {},
   "outputs": [],
   "source": []
  }
 ],
 "metadata": {
  "kernelspec": {
   "display_name": "Python 3.9 (tensorflow)",
   "language": "python",
   "name": "tensorflow"
  },
  "language_info": {
   "codemirror_mode": {
    "name": "ipython",
    "version": 3
   },
   "file_extension": ".py",
   "mimetype": "text/x-python",
   "name": "python",
   "nbconvert_exporter": "python",
   "pygments_lexer": "ipython3",
   "version": "3.9.13"
  }
 },
 "nbformat": 4,
 "nbformat_minor": 4
}
